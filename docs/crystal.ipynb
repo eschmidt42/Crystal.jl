{
 "cells": [
  {
   "cell_type": "markdown",
   "metadata": {},
   "source": [
    "# Using `Crystals.jl`"
   ]
  },
  {
   "cell_type": "markdown",
   "metadata": {},
   "source": [
    "Content of this notebook:\n",
    "1. Create [fcc/bcc](https://en.wikipedia.org/wiki/Cubic_crystal_system) unit cells\n",
    "2. Use the unit cell to create supercells\n",
    "3. \"Add\" a vacancy to the supercell"
   ]
  },
  {
   "cell_type": "code",
   "execution_count": null,
   "metadata": {},
   "outputs": [],
   "source": [
    "import Pkg"
   ]
  },
  {
   "cell_type": "code",
   "execution_count": null,
   "metadata": {
    "scrolled": true
   },
   "outputs": [],
   "source": [
    "Pkg.activate(\".\")\n",
    "Pkg.instantiate()"
   ]
  },
  {
   "cell_type": "code",
   "execution_count": null,
   "metadata": {},
   "outputs": [],
   "source": [
    "Pkg.status()"
   ]
  },
  {
   "cell_type": "code",
   "execution_count": null,
   "metadata": {},
   "outputs": [],
   "source": [
    "using Crystal\n",
    "using DataFrames\n",
    "using LaTeXStrings\n",
    "using Plots"
   ]
  },
  {
   "cell_type": "markdown",
   "metadata": {},
   "source": [
    "## Creating Crystals"
   ]
  },
  {
   "cell_type": "markdown",
   "metadata": {},
   "source": [
    "Let's first define some constants"
   ]
  },
  {
   "cell_type": "code",
   "execution_count": null,
   "metadata": {},
   "outputs": [],
   "source": [
    "masses = Dict(\"V\" => 50.9415, \"Nb\" => 92.9064, \"Ta\" => 180.9479,\n",
    "              \"Cr\" => 51.996, \"Mo\" => 95.94, \"W\" => 183.85,\n",
    "              \"Fe\" => 55.847)\n",
    "el2atom_map = Dict(el => Crystal.Atom(name=el, mass=masses[el]) for el in keys(masses))\n",
    "\n",
    "# Å\n",
    "bcc_lattice_constants = Dict(\n",
    "    \"V\" => 3.0399, \"Nb\" => 3.3008, \n",
    "    \"Ta\" => 3.3058, \"Cr\" => 2.8845, \"Mo\" => 3.1472, \n",
    "    \"W\" => 3.1652, \"Fe\" => 2.8665\n",
    ")"
   ]
  },
  {
   "cell_type": "markdown",
   "metadata": {},
   "source": [
    "## Synthesizing crystal unit cells"
   ]
  },
  {
   "cell_type": "markdown",
   "metadata": {},
   "source": [
    "Crystals are something fascinating. Defect free crystals are highly symmetric and can be reduced to so-called \"unit cells\", a cell which can be used by copying and shifting it to construct the entire crystal. So to sound impressive the crystal of multiple unit cells is called a supercell ¯\\\\\\_(ツ)\\_/¯.\n",
    "\n",
    "So in a first step we'll define how to create two common types of unit cells and then go on to synthesize a supercell."
   ]
  },
  {
   "cell_type": "markdown",
   "metadata": {},
   "source": [
    "### body centered cubic crystal"
   ]
  },
  {
   "cell_type": "code",
   "execution_count": null,
   "metadata": {},
   "outputs": [],
   "source": [
    "el = \"Fe\"\n",
    "a = bcc_lattice_constants[el]\n",
    "elements = [el for _ in 1:2]\n",
    "cell = Crystal.make_bcc_unitcell(elements, a, el2atom_map)"
   ]
  },
  {
   "cell_type": "markdown",
   "metadata": {},
   "source": [
    "Visualizing the crystal"
   ]
  },
  {
   "cell_type": "code",
   "execution_count": null,
   "metadata": {},
   "outputs": [],
   "source": [
    "function plot_crystal(cell::Crystal.Cell;\n",
    "        default_color::String=\"blue\",\n",
    "        element_color_map::Dict=Dict{String,String}(\"Fe\" => \"blue\"),\n",
    "        default_size::T=50,\n",
    "        element_size_map::Dict=Dict{String,Any}()\n",
    "    ) where T <: Real\n",
    "    \n",
    "    atoms, coords = cell.atoms, cell.coords \n",
    "    \n",
    "    elements = Set([atom.name for atom in atoms])\n",
    "    for element in elements\n",
    "        if !haskey(element_color_map, element)\n",
    "            element_color_map[element] = default_color\n",
    "        end\n",
    "        if !haskey(element_size_map, element)\n",
    "            element_size_map[element] = default_size\n",
    "        end\n",
    "    end\n",
    "    colors = [element_color_map[atom.name] for atom in atoms]\n",
    "    sizes = [element_size_map[atom.name] for atom in atoms]\n",
    "\n",
    "    x = [v[1] for v in coords]\n",
    "    y = [v[2] for v in coords]\n",
    "    z = [v[3] for v in coords]\n",
    "    return @gif for i in range(0, stop=2π, length=100)\n",
    "        scatter(x, y, z, camera=(10*(1+cos(i)),5),\n",
    "            markersize=sizes, legend=false, \n",
    "            color=colors, aspect_ratio=:equal,\n",
    "            xlabel=L\"x\", ylabel=L\"y\", zlabel=L\"z\",\n",
    "            title=string(length(atoms), \" atoms of: \", join(elements, \",\"))\n",
    "        )\n",
    "    end\n",
    "end"
   ]
  },
  {
   "cell_type": "code",
   "execution_count": null,
   "metadata": {},
   "outputs": [],
   "source": [
    "plot_crystal(cell, default_size=50)"
   ]
  },
  {
   "cell_type": "markdown",
   "metadata": {},
   "source": [
    "### face centered cubic crystal"
   ]
  },
  {
   "cell_type": "code",
   "execution_count": null,
   "metadata": {},
   "outputs": [],
   "source": [
    "el = \"Fe\"\n",
    "a = bcc_lattice_constants[el]\n",
    "elements = [el for _ in 1:4]\n",
    "cell = Crystal.make_fcc_unitcell(elements, a, el2atom_map);"
   ]
  },
  {
   "cell_type": "code",
   "execution_count": null,
   "metadata": {},
   "outputs": [],
   "source": [
    "plot_crystal(cell, default_size=50)"
   ]
  },
  {
   "cell_type": "markdown",
   "metadata": {},
   "source": [
    "## Generating a supercell from a unit cell"
   ]
  },
  {
   "cell_type": "code",
   "execution_count": null,
   "metadata": {},
   "outputs": [],
   "source": [
    "el = \"Fe\"\n",
    "unitcell = Crystal.make_bcc_unitcell([el for _ in 1:2], bcc_lattice_constants[el], el2atom_map)\n",
    "supercell = Crystal.make_supercell(unitcell, nx=3, ny=3, nz=3);"
   ]
  },
  {
   "cell_type": "code",
   "execution_count": null,
   "metadata": {},
   "outputs": [],
   "source": [
    "plot_crystal(supercell, default_size=5)"
   ]
  },
  {
   "cell_type": "markdown",
   "metadata": {},
   "source": [
    "## Inserting a vacancy / removing an atom "
   ]
  },
  {
   "cell_type": "code",
   "execution_count": null,
   "metadata": {},
   "outputs": [],
   "source": [
    "vac = Crystal.add_vacancies(supercell, ixs=[1]);"
   ]
  },
  {
   "cell_type": "code",
   "execution_count": null,
   "metadata": {},
   "outputs": [],
   "source": [
    "plot_crystal(vac, default_size=5)"
   ]
  },
  {
   "cell_type": "markdown",
   "metadata": {},
   "source": [
    "Looks okay. Next, let's verify that the distance distributions of the first neighbours make sense."
   ]
  },
  {
   "cell_type": "markdown",
   "metadata": {},
   "source": [
    "## Sanity checking distances"
   ]
  },
  {
   "cell_type": "markdown",
   "metadata": {},
   "source": [
    "### bcc"
   ]
  },
  {
   "cell_type": "code",
   "execution_count": null,
   "metadata": {},
   "outputs": [],
   "source": [
    "struct NeighbourFinder \n",
    "    nb_matrix::BitArray{2} # defines which atom pairs we'll be happy to check at all\n",
    "    dist_cutoff::Float32\n",
    "    rcut2::Float32\n",
    "end\n",
    "\n",
    "NeighbourFinder(nb_matrix, dist_cutoff) = NeighbourFinder(nb_matrix, dist_cutoff, dist_cutoff^2)\n",
    "\n",
    "function find_neighbours(cell::Crystal.Cell, nf::NeighbourFinder)\n",
    "    neighbours = []\n",
    "    rs = []\n",
    "    for i in 1:length(cell.coords)\n",
    "        ci = cell.coords[i]\n",
    "        for j in 1:length(cell.coords)\n",
    "            if i==j \n",
    "                continue\n",
    "            end\n",
    "            \n",
    "            r2 = sum(abs2, Crystal.vector(ci, cell.coords[j], cell.edge_lengths))\n",
    "            if r2 <= nf.rcut2 && nf.nb_matrix[j,i]\n",
    "                push!(neighbours, (i,j))\n",
    "                push!(rs, sqrt(r2))\n",
    "            end                \n",
    "        end\n",
    "    end\n",
    "    return neighbours, rs\n",
    "end\n",
    "\n",
    "function get_distance_df(cell::Crystal.Cell; dist_cutoff::Real=2)\n",
    "    n_atoms = length(cell.atoms)\n",
    "    nb_matrix = trues(n_atoms,n_atoms)\n",
    "    nf = NeighbourFinder(nb_matrix, dist_cutoff)\n",
    "    idxs, rs = find_neighbours(cell, nf)\n",
    "    rs_df = sort(combine(groupby(DataFrame(\"distances\"=>rs),[:distances]), \n",
    " nrow=>:count), [:distances])\n",
    "    return rs_df, rs\n",
    "end"
   ]
  },
  {
   "cell_type": "markdown",
   "metadata": {},
   "source": [
    "Defining the supercell"
   ]
  },
  {
   "cell_type": "code",
   "execution_count": null,
   "metadata": {},
   "outputs": [],
   "source": [
    "el = \"Fe\"\n",
    "unitcell = Crystal.make_bcc_unitcell([el for _ in 1:2], 1, el2atom_map)\n",
    "supercell = Crystal.make_supercell(unitcell, nx=3, ny=3, nz=3);"
   ]
  },
  {
   "cell_type": "markdown",
   "metadata": {},
   "source": [
    "Computing pairwise distances"
   ]
  },
  {
   "cell_type": "code",
   "execution_count": null,
   "metadata": {},
   "outputs": [],
   "source": [
    "d = 2\n",
    "rs_df, rs = get_distance_df(supercell, dist_cutoff=d)"
   ]
  },
  {
   "cell_type": "markdown",
   "metadata": {},
   "source": [
    "Visualizing the distance distribution"
   ]
  },
  {
   "cell_type": "code",
   "execution_count": null,
   "metadata": {},
   "outputs": [],
   "source": [
    "function plot_distance_hist(rs::Array, title::String, cutoff)\n",
    "    histogram(rs, xlabel=L\"r\", ylabel=\"Frequency\", \n",
    "        title=string(title, \": euclidan (periodic) distance distribution (rcut \",cutoff,\")\"),\n",
    "        bins=200,\n",
    "    )\n",
    "end"
   ]
  },
  {
   "cell_type": "code",
   "execution_count": null,
   "metadata": {},
   "outputs": [],
   "source": [
    "plot_distance_hist(rs, \"bcc\", d)"
   ]
  },
  {
   "cell_type": "markdown",
   "metadata": {},
   "source": [
    "### fcc"
   ]
  },
  {
   "cell_type": "markdown",
   "metadata": {},
   "source": [
    "Same steps but for fcc"
   ]
  },
  {
   "cell_type": "code",
   "execution_count": null,
   "metadata": {},
   "outputs": [],
   "source": [
    "el = \"Fe\"\n",
    "unitcell = Crystal.make_fcc_unitcell([el for _ in 1:4], 1, el2atom_map)\n",
    "supercell = Crystal.make_supercell(unitcell, nx=3, ny=3, nz=3);"
   ]
  },
  {
   "cell_type": "code",
   "execution_count": null,
   "metadata": {},
   "outputs": [],
   "source": [
    "d = 2\n",
    "rs_df, rs = get_distance_df(supercell, dist_cutoff=d)"
   ]
  },
  {
   "cell_type": "code",
   "execution_count": null,
   "metadata": {},
   "outputs": [],
   "source": [
    "plot_distance_hist(rs, \"fcc\", d)"
   ]
  }
 ],
 "metadata": {
  "kernelspec": {
   "display_name": "Julia 1.5.3",
   "language": "julia",
   "name": "julia-1.5"
  },
  "language_info": {
   "file_extension": ".jl",
   "mimetype": "application/julia",
   "name": "julia",
   "version": "1.5.3"
  },
  "toc": {
   "base_numbering": 1,
   "nav_menu": {
    "height": "167px",
    "width": "309px"
   },
   "number_sections": true,
   "sideBar": true,
   "skip_h1_title": false,
   "title_cell": "Table of Contents",
   "title_sidebar": "Contents",
   "toc_cell": false,
   "toc_position": {},
   "toc_section_display": true,
   "toc_window_display": false
  }
 },
 "nbformat": 4,
 "nbformat_minor": 4
}
