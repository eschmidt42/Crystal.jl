{
 "cells": [
  {
   "cell_type": "markdown",
   "metadata": {},
   "source": [
    "# Understanding `ase.spacegroup.crystal`"
   ]
  },
  {
   "cell_type": "markdown",
   "metadata": {},
   "source": [
    "**Content of this notebook**:\n",
    "1. Parsing ase's spacegroup.dat and storage as json for easier parsing in the future\n",
    "2. Reproducing the `ase` logic in a stripped down version for better grokking (of course this skips a lot of covenience aspects contained in `ase` - a look at the original code is highly recommended if you are interested in special cases)\n",
    "3. Sanity checking created crystals for correctness "
   ]
  },
  {
   "cell_type": "code",
   "execution_count": null,
   "metadata": {},
   "outputs": [],
   "source": [
    "%load_ext autoreload\n",
    "%autoreload 2"
   ]
  },
  {
   "cell_type": "code",
   "execution_count": null,
   "metadata": {},
   "outputs": [],
   "source": [
    "from ase import spacegroup, Atoms\n",
    "import matplotlib.pyplot as plt\n",
    "from ase.visualize.plot import plot_atoms\n",
    "import json\n",
    "import itertools\n",
    "import numpy as np\n",
    "\n",
    "from playing_with_ase import dat2json, equivalent_sites, get_symop"
   ]
  },
  {
   "cell_type": "markdown",
   "metadata": {},
   "source": [
    "## The ASE experience"
   ]
  },
  {
   "cell_type": "markdown",
   "metadata": {},
   "source": [
    "ase makes it super easy to generate relatively complex structures. Below a few examples we'll reproduce in this notebook."
   ]
  },
  {
   "cell_type": "code",
   "execution_count": null,
   "metadata": {},
   "outputs": [],
   "source": [
    "crystal_specs = dict(\n",
    "    NaCl = dict(\n",
    "        # NaCl structure\n",
    "        a = 5.64,\n",
    "        symbols = ['Na', 'Cl'],\n",
    "        basis = [(0, 0, 0), (0.5, 0.5, 0.5)], # scaled coordinates\n",
    "        nr = 225,\n",
    "        cellpar = [5.64, 5.64, 5.64, 90, 90, 90]\n",
    "    ),\n",
    "    Al_fcc = dict(\n",
    "        # Al fcc structure\n",
    "        a = 4.05,\n",
    "        symbols = ['Al'],\n",
    "        basis = [(0, 0, 0),], # scaled coordinates\n",
    "        nr = 225,\n",
    "        cellpar = [4.05, 4.05, 4.05, 90, 90, 90]\n",
    "    ),\n",
    "    Fe_bcc = dict(\n",
    "        # Fe bcc structure\n",
    "        a = 2.87,\n",
    "        symbols = ['Fe'],\n",
    "        basis = [(0, 0, 0),], # scaled coordinates\n",
    "        nr = 229,\n",
    "        cellpar = [2.87, 2.87, 2.87, 90, 90, 90]\n",
    "    ),\n",
    "    Mg_hcp = dict(\n",
    "        # Mg hcp structure\n",
    "        a = 3.21,\n",
    "        c = 5.21,\n",
    "        symbols = ['Mg'],\n",
    "        basis = [(1./3., 2./3., 3./4.),], # scaled coordinates\n",
    "        nr = 194,\n",
    "        cellpar = [3.21, 3.21, 5.21, 90, 90, 120]\n",
    "    ),\n",
    "    Diamond = dict(\n",
    "        # Diamond structure\n",
    "        a = 3.57,\n",
    "        symbols = ['C'],\n",
    "        basis = [(0,0,0),], # scaled coordinates\n",
    "        nr = 227,\n",
    "        cellpar = [3.57, 3.57, 3.57, 90, 90, 90]\n",
    "    ),\n",
    "    Rutile = dict(\n",
    "        # Rutile structure\n",
    "        a = 4.6,\n",
    "        c = 2.95,\n",
    "        symbols = ['Ti', 'O'],\n",
    "        basis = [(0,0,0), (.3,.3,0)], # scaled coordinates\n",
    "        nr = 136,\n",
    "        cellpar = [4.6, 4.6, 2.95, 90, 90, 90]\n",
    "    ),\n",
    "    Skudderudite = dict(\n",
    "        # CoSb3 skudderudite\n",
    "        a = 9.04,\n",
    "        symbols = ['Co', 'Sb'],\n",
    "        basis = [(0.25, 0.25, 0.25), (0.0, 0.335, 0.158)], # scaled coordinates\n",
    "        nr = 204,\n",
    "        cellpar = [9.04, 9.04, 9.04, 90, 90, 90]\n",
    "    )\n",
    ")"
   ]
  },
  {
   "cell_type": "markdown",
   "metadata": {},
   "source": [
    "Generating an `ase.Atoms` object using the above specs"
   ]
  },
  {
   "cell_type": "code",
   "execution_count": null,
   "metadata": {},
   "outputs": [],
   "source": [
    "ab_normal = (0,0,1) # normal to the plane spanned by cell vectors a and b\n",
    "a_direction = (1,0,0) # direction of the \"x\" vector of the cellbox\n",
    "name = \"Skudderudite\"\n",
    "nr = crystal_specs[name]['nr']\n",
    "basis = crystal_specs[name]['basis']\n",
    "cellpar = crystal_specs[name]['cellpar']\n",
    "symbols = crystal_specs[name]['symbols']\n",
    "\n",
    "crystal = spacegroup.crystal(symbols, \n",
    "                             basis, \n",
    "                             spacegroup=nr,\n",
    "                             cellpar=cellpar, \n",
    "                             a_direction=a_direction,\n",
    "                             ab_normal=ab_normal)"
   ]
  },
  {
   "cell_type": "markdown",
   "metadata": {},
   "source": [
    "Visualizing `crystal`"
   ]
  },
  {
   "cell_type": "code",
   "execution_count": null,
   "metadata": {
    "scrolled": true
   },
   "outputs": [],
   "source": [
    "crystal.todict()"
   ]
  },
  {
   "cell_type": "code",
   "execution_count": null,
   "metadata": {},
   "outputs": [],
   "source": [
    "fig, ax = plt.subplots()\n",
    "plot_atoms(crystal, ax, radii=0.3, rotation=('0x,30y,0z'))\n",
    "plt.show()"
   ]
  },
  {
   "cell_type": "markdown",
   "metadata": {},
   "source": [
    "When using `spacegroup.crystal`, a lot of things happen in the background. But the basic ase crystal algorithm is this:\n",
    "\n",
    "1. collect symmetry operations from `spacegroup.dat` for the `spacegroup` and setting (`1` or `2`)\n",
    "\n",
    "2. compute equivalent `sites` to the scaled positions\n",
    "    - iterate positions:\n",
    "        - apply rotations and translations and fold back into $[0,1)$ to generate equivalent sites\n",
    "            - iterate relevant parities (-1, 1) and sub-translations: `newtrans = (trans + subtrans) % 1`, `newrot = parity * rotation` \n",
    "        - drop new site if duplicate\n",
    "\n",
    "3. compute the `cell` vectors\n",
    "\n",
    "4. compute real space positions by multiplying `sites` and `cell`"
   ]
  },
  {
   "cell_type": "markdown",
   "metadata": {},
   "source": [
    "## Re-implementing the ase crystal algorithm"
   ]
  },
  {
   "cell_type": "markdown",
   "metadata": {},
   "source": [
    "### `spacegroup.dat` $\\Rightarrow$ `spacegroup.json`"
   ]
  },
  {
   "cell_type": "markdown",
   "metadata": {},
   "source": [
    "`spacegroup.dat` contains the operations defining all spacegroups. However it is written in a format that requires some verbose loading functions. So let's simplify this by using ase's specialised functions once and store the output as a json.\n",
    "\n",
    "This can be done using `dat2json`"
   ]
  },
  {
   "cell_type": "code",
   "execution_count": null,
   "metadata": {
    "scrolled": true
   },
   "outputs": [],
   "source": [
    "%%time\n",
    "dat2json()"
   ]
  },
  {
   "cell_type": "code",
   "execution_count": null,
   "metadata": {},
   "outputs": [],
   "source": [
    "%%time\n",
    "spgs = json.load(open('../src/spacegroup.json','r'))"
   ]
  },
  {
   "cell_type": "markdown",
   "metadata": {},
   "source": [
    "Let's check the available `spgs` entries for `nr`"
   ]
  },
  {
   "cell_type": "code",
   "execution_count": null,
   "metadata": {},
   "outputs": [],
   "source": [
    "[k for k in spgs.keys() if str(nr) in k]"
   ]
  },
  {
   "cell_type": "code",
   "execution_count": null,
   "metadata": {
    "scrolled": true
   },
   "outputs": [],
   "source": [
    "setting = 1 # some spacegroups have 2 settings (1 and 2)\n",
    "spg = spgs[f'{nr}: {setting}']\n",
    "spg"
   ]
  },
  {
   "cell_type": "markdown",
   "metadata": {},
   "source": [
    "### Computing equivalent sites"
   ]
  },
  {
   "cell_type": "markdown",
   "metadata": {},
   "source": [
    "Equivalent sites are generated by applying spacegroup specific translations and rotations. The ones for our current spacegroup `nr` are "
   ]
  },
  {
   "cell_type": "markdown",
   "metadata": {},
   "source": [
    "Depending on wether or not our spacegroup is centrosymmetric, we also apply a parity operation. So let's loop over our parities and collect rotation and translation operations in `symops`"
   ]
  },
  {
   "cell_type": "code",
   "execution_count": null,
   "metadata": {},
   "outputs": [],
   "source": [
    "parities = [1] if not spg['centrosymmetric'] else [1,-1]\n",
    "symops = []\n",
    "\n",
    "assert len(spg['rotations']) == len(spg['translations'])\n",
    "\n",
    "for parity, trans_sub in itertools.product(parities,spg['subtrans']):\n",
    "    for rot, trans in zip(spg['rotations'], spg['translations']):\n",
    "        \n",
    "        symops.append((\n",
    "            parity * np.array(rot), # rotation op\n",
    "            np.mod(np.array(trans) + np.array(trans_sub), 1) # translation op\n",
    "        ))"
   ]
  },
  {
   "cell_type": "code",
   "execution_count": null,
   "metadata": {},
   "outputs": [],
   "source": [
    "symops[:3]"
   ]
  },
  {
   "cell_type": "markdown",
   "metadata": {},
   "source": [
    "Now we apply all operations in `symops` to all the sites in our `basis`"
   ]
  },
  {
   "cell_type": "code",
   "execution_count": null,
   "metadata": {},
   "outputs": [],
   "source": [
    "%%time\n",
    "symprec = 1e-3\n",
    "kinds, sites = [], []\n",
    "\n",
    "for kind, pos in enumerate(np.array(basis)):\n",
    "    for rot, trans in symops:\n",
    "        \n",
    "        site = np.mod(np.dot(rot, pos) + trans, 1.) # applying symmetry op to site\n",
    "        \n",
    "        # storing site\n",
    "        if len(sites) == 0: # if we have no sites yet just store `kind` and generated `site`\n",
    "            sites.append(site)\n",
    "            kinds.append(kind)\n",
    "        else: # sanity check if site already exists\n",
    "            t = site - sites\n",
    "            isclose = np.isclose(t, np.zeros_like(t), atol=symprec).all(axis=1)\n",
    "            if not np.any(isclose):\n",
    "                sites.append(site)\n",
    "                kinds.append(kind)\n",
    "                \n",
    "print(f'sites:\\n{sites[:5]}, \\n\\nkinds:\\n{kinds[:5]}')"
   ]
  },
  {
   "cell_type": "markdown",
   "metadata": {},
   "source": [
    "`sites` contains all equivalent positions of our initial `basis` (which contains scaled positions). `kinds` contains integers related to the `symbols` for the `basis` entries. "
   ]
  },
  {
   "cell_type": "markdown",
   "metadata": {},
   "source": [
    "### Computing cell vectors"
   ]
  },
  {
   "cell_type": "markdown",
   "metadata": {},
   "source": [
    "To compute our `cell` box we need a coordinate system `xyz` and our cell vectors `abc`. First, let's generate `xyz`"
   ]
  },
  {
   "cell_type": "code",
   "execution_count": null,
   "metadata": {},
   "outputs": [],
   "source": [
    "ab_normal, a_direction"
   ]
  },
  {
   "cell_type": "code",
   "execution_count": null,
   "metadata": {},
   "outputs": [],
   "source": [
    "def norm(x): return np.array(x) / np.linalg.norm(x)\n",
    "\n",
    "assert np.isclose(np.dot(ab_normal, a_direction),0)\n",
    "_x = norm(a_direction)\n",
    "z = norm(ab_normal)\n",
    "x = _x - np.dot(_x, ab_normal) * z\n",
    "\n",
    "xyz = np.array([x, np.cross(z,x), z])\n",
    "xyz"
   ]
  },
  {
   "cell_type": "markdown",
   "metadata": {},
   "source": [
    "Second, compute components required for `abc`"
   ]
  },
  {
   "cell_type": "code",
   "execution_count": null,
   "metadata": {},
   "outputs": [],
   "source": [
    "cellpar # a, b, c, alpha, gamma, beta"
   ]
  },
  {
   "cell_type": "code",
   "execution_count": null,
   "metadata": {},
   "outputs": [],
   "source": [
    "a, b, c, alpha, beta, gamma = cellpar\n",
    "assert all([a>0, b>0, c>0, 0<alpha<180, 0<beta<180, -180.<=gamma<=180.])"
   ]
  },
  {
   "cell_type": "code",
   "execution_count": null,
   "metadata": {},
   "outputs": [],
   "source": [
    "def deg2rad(x): return x*np.pi/180.\n",
    "\n",
    "cos_alpha = 0. if np.isclose(alpha,90) else np.cos(deg2rad(alpha))\n",
    "cos_beta = 0. if np.isclose(beta,90) else np.cos(deg2rad(beta))\n",
    "cos_gamma = 0. if np.isclose(abs(gamma),90) else np.cos(deg2rad(gamma))\n",
    "sin_gamma = np.sign(gamma) if np.isclose(abs(gamma),90) else np.sin(deg2rad(gamma))\n",
    "cos_alpha, cos_beta, cos_gamma, sin_gamma"
   ]
  },
  {
   "cell_type": "markdown",
   "metadata": {},
   "source": [
    "And with `abc`"
   ]
  },
  {
   "cell_type": "code",
   "execution_count": null,
   "metadata": {},
   "outputs": [],
   "source": [
    "cy = (cos_alpha - cos_beta * cos_gamma) / sin_gamma\n",
    "abc = np.array([\n",
    "    [a, 0, 0],\n",
    "    [b*cos_gamma, b*sin_gamma, 0],\n",
    "    [c*cos_beta, \n",
    "     c*cy, \n",
    "     c*np.sqrt(1. - cos_beta*cos_beta - cy*cy)]\n",
    "])\n",
    "\n",
    "abc"
   ]
  },
  {
   "cell_type": "markdown",
   "metadata": {},
   "source": [
    "we can compute `cell`"
   ]
  },
  {
   "cell_type": "code",
   "execution_count": null,
   "metadata": {},
   "outputs": [],
   "source": [
    "cell = np.dot(abc, xyz)\n",
    "cell"
   ]
  },
  {
   "cell_type": "markdown",
   "metadata": {},
   "source": [
    "### Computing atom positions "
   ]
  },
  {
   "cell_type": "markdown",
   "metadata": {},
   "source": [
    "Having computed `sites` and `cell` we can easily compute our real space / no scaled atom `positions`"
   ]
  },
  {
   "cell_type": "code",
   "execution_count": null,
   "metadata": {},
   "outputs": [],
   "source": [
    "positions = np.dot(sites, cell)\n",
    "positions[:5]"
   ]
  },
  {
   "cell_type": "code",
   "execution_count": null,
   "metadata": {},
   "outputs": [],
   "source": [
    "assert np.allclose(positions, crystal.positions), f'crystal.positions != positions:\\n{crystal.positions}\\n!=\\n{positions}'"
   ]
  },
  {
   "cell_type": "markdown",
   "metadata": {},
   "source": [
    "Using `kinds`, `positions` and `cell` we can generate an `ase.Atoms` object and compare the result to the one from `ase.spacegroup.crystal`"
   ]
  },
  {
   "cell_type": "code",
   "execution_count": null,
   "metadata": {},
   "outputs": [],
   "source": [
    "atoms = Atoms(symbols=[symbols[v] for v in kinds],\n",
    "              positions=positions,\n",
    "              cell=cell)\n",
    "\n",
    "rotation = ('5x,30y,0z') # defines the view angle\n",
    "\n",
    "fig, axs = plt.subplots(ncols=2, figsize=(10,9))\n",
    "plot_atoms(atoms, axs[0], radii=0.3, rotation=rotation)\n",
    "axs[0].set(title='nb code')\n",
    "plot_atoms(crystal, axs[1], radii=0.3, rotation=rotation)\n",
    "axs[1].set(title='original ase')\n",
    "plt.show()"
   ]
  },
  {
   "cell_type": "markdown",
   "metadata": {},
   "source": [
    "## Exporting ase crystal properties for tests in julia"
   ]
  },
  {
   "cell_type": "code",
   "execution_count": null,
   "metadata": {},
   "outputs": [],
   "source": [
    "crystal_specs = dict(\n",
    "    NaCl = dict(\n",
    "        # NaCl structure\n",
    "        a = 5.64,\n",
    "        symbols = ['Na', 'Cl'],\n",
    "        basis = [(0, 0, 0), (0.5, 0.5, 0.5)], # scaled coordinates\n",
    "        nr = 225,\n",
    "        cellpar = [5.64, 5.64, 5.64, 90, 90, 90]\n",
    "    ),\n",
    "    Al_fcc = dict(\n",
    "        # Al fcc structure\n",
    "        a = 4.05,\n",
    "        symbols = ['Al'],\n",
    "        basis = [(0, 0, 0),], # scaled coordinates\n",
    "        nr = 225,\n",
    "        cellpar = [4.05, 4.05, 4.05, 90, 90, 90]\n",
    "    ),\n",
    "    Fe_bcc = dict(\n",
    "        # Fe bcc structure\n",
    "        a = 2.87,\n",
    "        symbols = ['Fe'],\n",
    "        basis = [(0, 0, 0),], # scaled coordinates\n",
    "        nr = 229,\n",
    "        cellpar = [2.87, 2.87, 2.87, 90, 90, 90]\n",
    "    ),\n",
    "    Mg_hcp = dict(\n",
    "        # Mg hcp structure\n",
    "        a = 3.21,\n",
    "        c = 5.21,\n",
    "        symbols = ['Mg'],\n",
    "        basis = [(1./3., 2./3., 3./4.),], # scaled coordinates\n",
    "        nr = 194,\n",
    "        cellpar = [3.21, 3.21, 5.21, 90, 90, 120]\n",
    "    ),\n",
    "    Diamond = dict(\n",
    "        # Diamond structure\n",
    "        a = 3.57,\n",
    "        symbols = ['C'],\n",
    "        basis = [(0,0,0),], # scaled coordinates\n",
    "        nr = 227,\n",
    "        cellpar = [3.57, 3.57, 3.57, 90, 90, 90]\n",
    "    ),\n",
    "    Rutile = dict(\n",
    "        # Rutile structure\n",
    "        a = 4.6,\n",
    "        c = 2.95,\n",
    "        symbols = ['Ti', 'O'],\n",
    "        basis = [(0,0,0), (.3,.3,0)], # scaled coordinates\n",
    "        nr = 136,\n",
    "        cellpar = [4.6, 4.6, 2.95, 90, 90, 90]\n",
    "    ),\n",
    "    Skudderudite = dict(\n",
    "        # CoSb3 skudderudite\n",
    "        a = 9.04,\n",
    "        symbols = ['Co', 'Sb'],\n",
    "        basis = [(0.25, 0.25, 0.25), (0.0, 0.335, 0.158)], # scaled coordinates\n",
    "        nr = 204,\n",
    "        cellpar = [9.04, 9.04, 9.04, 90, 90, 90]\n",
    "    )\n",
    ")"
   ]
  },
  {
   "cell_type": "markdown",
   "metadata": {},
   "source": [
    "Generating an `ase.Atoms` object using the above specs"
   ]
  },
  {
   "cell_type": "code",
   "execution_count": null,
   "metadata": {},
   "outputs": [],
   "source": [
    "ab_normal = (0,0,1) # normal to the plane spanned by cell vectors a and b\n",
    "a_direction = (1,0,0) # direction of the \"x\" vector of the cellbox\n",
    "\n",
    "ase_crystals = {k: spacegroup.crystal(d['symbols'], d['basis'], \n",
    "                             spacegroup=d['nr'],\n",
    "                             cellpar=d['cellpar'], \n",
    "                             a_direction=a_direction,\n",
    "                             ab_normal=ab_normal)\n",
    "                for k, d in crystal_specs.items()}"
   ]
  },
  {
   "cell_type": "code",
   "execution_count": null,
   "metadata": {},
   "outputs": [],
   "source": [
    "def atoms2dict(atoms):\n",
    "    d = atoms.todict().copy()\n",
    "    for k,v in d.items():\n",
    "        if isinstance(v,np.ndarray):\n",
    "            d[k] = v.tolist()\n",
    "    d['info']['spacegroup'] = {\n",
    "        'nr': d['info']['spacegroup'].no, \n",
    "        'setting': d['info']['spacegroup'].setting\n",
    "    }\n",
    "    d['symbols'] = atoms.get_chemical_symbols()\n",
    "    return d\n",
    "\n",
    "def ase_crystals2json(crystals:list, json_fname='../src/ase-atoms.json'):\n",
    "    ds = {k: atoms2dict(v) for k,v in crystals.items()}\n",
    "    print(f'Storing ase crystals as dictionaries: {json_fname}')\n",
    "    with open(json_fname, \"w\") as f:\n",
    "        json.dump(ds, f)"
   ]
  },
  {
   "cell_type": "code",
   "execution_count": null,
   "metadata": {
    "scrolled": true
   },
   "outputs": [],
   "source": [
    "%%time\n",
    "ase_crystals2json(ase_crystals, json_fname='../src/ase-atoms.json')"
   ]
  },
  {
   "cell_type": "code",
   "execution_count": null,
   "metadata": {
    "scrolled": true
   },
   "outputs": [],
   "source": [
    "def json2ase_crystals(json_fname='../src/ase-atoms.json'):\n",
    "    with open(json_fname, \"r\") as f:\n",
    "        ds = json.load(f)\n",
    "    print(ds['Skudderudite']['positions'])\n",
    "    ase_crystals = {}\n",
    "    for k, d in ds.items():\n",
    "        ase_crystals[k] = {\n",
    "            v: np.array(d[v]) for v in ['numbers', 'positions', 'spacegroup_kinds', 'cell', 'pbc']\n",
    "        }\n",
    "        ase_crystals[k]['info'] = {'spacegroup': spacegroup.Spacegroup(d['info']['spacegroup']['nr'], \n",
    "                                                                     setting=d['info']['spacegroup']['setting'])}\n",
    "        print(ase_crystals)\n",
    "        ase_crystals[k] = Atoms.fromdict(ase_crystals[k])\n",
    "        \n",
    "    return ase_crystals"
   ]
  },
  {
   "cell_type": "code",
   "execution_count": null,
   "metadata": {
    "scrolled": true
   },
   "outputs": [],
   "source": [
    "%%time\n",
    "# json_fname='../src/ase-atoms.json'\n",
    "json_fname='julia-atoms.json'\n",
    "atoms_from_disk = json2ase_crystals(json_fname=json_fname)"
   ]
  },
  {
   "cell_type": "code",
   "execution_count": null,
   "metadata": {},
   "outputs": [],
   "source": [
    "fig, ax = plt.subplots()\n",
    "plot_atoms(atoms_from_disk['Mg_hcp'], ax, radii=0.3, rotation=('0x,30y,0z'))\n",
    "plt.show()"
   ]
  },
  {
   "cell_type": "code",
   "execution_count": null,
   "metadata": {},
   "outputs": [],
   "source": []
  }
 ],
 "metadata": {
  "kernelspec": {
   "display_name": "Python [conda env:py38_crystal]",
   "language": "python",
   "name": "conda-env-py38_crystal-py"
  },
  "language_info": {
   "codemirror_mode": {
    "name": "ipython",
    "version": 3
   },
   "file_extension": ".py",
   "mimetype": "text/x-python",
   "name": "python",
   "nbconvert_exporter": "python",
   "pygments_lexer": "ipython3",
   "version": "3.8.8"
  },
  "toc": {
   "base_numbering": 1,
   "nav_menu": {},
   "number_sections": true,
   "sideBar": true,
   "skip_h1_title": false,
   "title_cell": "Table of Contents",
   "title_sidebar": "Contents",
   "toc_cell": false,
   "toc_position": {},
   "toc_section_display": true,
   "toc_window_display": false
  }
 },
 "nbformat": 4,
 "nbformat_minor": 4
}
