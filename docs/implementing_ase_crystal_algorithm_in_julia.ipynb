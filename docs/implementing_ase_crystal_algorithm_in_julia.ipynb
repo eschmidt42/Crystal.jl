{
 "cells": [
  {
   "cell_type": "markdown",
   "id": "9cd1a73f",
   "metadata": {},
   "source": [
    "# Implementing ase's crystal algorithm"
   ]
  },
  {
   "cell_type": "markdown",
   "id": "4bad5bd7",
   "metadata": {},
   "source": [
    "This notebook shows how to use the `Crystal` package. But the focus here are the components in the background, to enable easier grokking of algorithm behind the creation of single crystals."
   ]
  },
  {
   "cell_type": "code",
   "execution_count": null,
   "id": "323195d6",
   "metadata": {},
   "outputs": [],
   "source": [
    "import Pkg\n",
    "Pkg.activate(\".\")\n",
    "Pkg.instantiate()"
   ]
  },
  {
   "cell_type": "code",
   "execution_count": null,
   "id": "1bd9a410",
   "metadata": {
    "scrolled": true
   },
   "outputs": [],
   "source": [
    "# Pkg.add(\"LaTeXStrings\")"
   ]
  },
  {
   "cell_type": "code",
   "execution_count": null,
   "id": "1385eac4",
   "metadata": {},
   "outputs": [],
   "source": [
    "using Plots\n",
    "using LaTeXStrings\n",
    "using JSON\n",
    "using LinearAlgebra\n",
    "using Test\n",
    "using Crystal"
   ]
  },
  {
   "cell_type": "markdown",
   "id": "cc75b112",
   "metadata": {},
   "source": [
    "## Specifying single crystals"
   ]
  },
  {
   "cell_type": "code",
   "execution_count": null,
   "id": "997081bc",
   "metadata": {},
   "outputs": [],
   "source": [
    "crystal_specs = Dict(\n",
    "    # NaCl structure\n",
    "    \"NaCl\" => Dict(\n",
    "        \"symbols\" => [\"Na\", \"Cl\"],\n",
    "        \"basis\" => [[0. 0. 0.], [.5 .5 .5]], # scaled coordinates\n",
    "        \"nr\" => 225,\n",
    "        \"setting\" => 1,\n",
    "        \"a_direction\" => [1.; 0.; 0.],\n",
    "        \"ab_normal\" => [0.; 0.; 1.],\n",
    "        \"cellpar\" => [5.64, 5.64, 5.64, 90, 90, 90]\n",
    "    ),\n",
    "    # Al fcc structure\n",
    "    \"Al_fcc\" => Dict(\n",
    "        \"symbols\" => [\"Al\"],\n",
    "        \"basis\" => [[0. 0. 0.],], # scaled coordinates\n",
    "        \"nr\" => 225,\n",
    "        \"setting\" => 1,\n",
    "        \"a_direction\" => [1.; 0.; 0.],\n",
    "        \"ab_normal\" => [0.; 0.; 1.],\n",
    "        \"cellpar\" => [4.05, 4.05, 4.05, 90, 90, 90]\n",
    "    ),\n",
    "    # Fe bcc structure\n",
    "    \"Fe_bcc\" => Dict(\n",
    "        \"symbols\" => [\"Fe\"],\n",
    "        \"basis\" => [[0. 0. 0.],], # scaled coordinates\n",
    "        \"nr\" => 229,\n",
    "        \"setting\" => 1,\n",
    "        \"a_direction\" => [1.; 0.; 0.],\n",
    "        \"ab_normal\" => [0.; 0.; 1.],\n",
    "        \"cellpar\" => [2.87, 2.87, 2.87, 90, 90, 90]\n",
    "    ),\n",
    "    # Mg hcp structure\n",
    "    \"Mg_hcp\" => Dict(\n",
    "        \"symbols\" => [\"Mg\"],\n",
    "        \"basis\" => [[1/3 2/3 3/4],], # scaled coordinates\n",
    "        \"nr\" => 194,\n",
    "        \"setting\" => 1,\n",
    "        \"a_direction\" => [1.; 0.; 0.],\n",
    "        \"ab_normal\" => [0.; 0.; 1.],\n",
    "        \"cellpar\" => [3.21, 3.21, 5.21, 90, 90, 120]\n",
    "    ),\n",
    "    # Diamond structure\n",
    "    \"Diamond\" => Dict(\n",
    "        \"symbols\" => [\"C\"],\n",
    "        \"basis\" => [[0. 0. 0.],], # scaled coordinates\n",
    "        \"nr\" => 227,\n",
    "        \"setting\" => 1,\n",
    "        \"a_direction\" => [1.; 0.; 0.],\n",
    "        \"ab_normal\" => [0.; 0.; 1.],\n",
    "        \"cellpar\" => [3.57, 3.57, 3.57, 90, 90, 90]\n",
    "    ),\n",
    "    # Rutile structure\n",
    "    \"Rutile\" => Dict(\n",
    "        \"symbols\" => [\"Ti\", \"O\"],\n",
    "        \"basis\" => [[0. 0. 0.], [.3 .3 0.]], # scaled coordinates\n",
    "        \"nr\" => 136,\n",
    "        \"setting\" => 1,\n",
    "        \"a_direction\" => [1.; 0.; 0.],\n",
    "        \"ab_normal\" => [0.; 0.; 1.],\n",
    "        \"cellpar\" => [4.6, 4.6, 2.95, 90, 90, 90]\n",
    "    ),\n",
    "    # CoSb3 skudderudite\n",
    "    \"Skudderudite\" => Dict(\n",
    "        \"symbols\" => [\"Co\", \"Sb\"],\n",
    "        \"basis\" => [[.25 .25 .25], [0. .335 .158]], # scaled coordinates\n",
    "        \"nr\" => 204,\n",
    "        \"setting\" => 1,\n",
    "        \"a_direction\" => [1.; 0.; 0.],\n",
    "        \"ab_normal\" => [0.; 0.; 1.],\n",
    "        \"cellpar\" => [9.04, 9.04, 9.04, 90, 90, 90]\n",
    "    )\n",
    ");"
   ]
  },
  {
   "cell_type": "markdown",
   "id": "971477f0",
   "metadata": {},
   "source": [
    "## Constructing a single crystal"
   ]
  },
  {
   "cell_type": "markdown",
   "id": "b733e914",
   "metadata": {},
   "source": [
    "### High level"
   ]
  },
  {
   "cell_type": "markdown",
   "id": "b0cec3b1",
   "metadata": {},
   "source": [
    "Using convenience functions we can create fcc/bcc unit cells like so"
   ]
  },
  {
   "cell_type": "code",
   "execution_count": null,
   "id": "c1a016a6",
   "metadata": {
    "scrolled": true
   },
   "outputs": [],
   "source": [
    "Crystal.make_bcc_unitcell(\"W\", 3.4)"
   ]
  },
  {
   "cell_type": "code",
   "execution_count": null,
   "id": "6d2e2bff",
   "metadata": {},
   "outputs": [],
   "source": [
    "Crystal.make_fcc_unitcell(\"W\", 3.4)"
   ]
  },
  {
   "cell_type": "markdown",
   "id": "e23a8ae7",
   "metadata": {},
   "source": [
    "If we want to create a unit cell using a basis and spacegroup information we collect the specs first"
   ]
  },
  {
   "cell_type": "code",
   "execution_count": null,
   "id": "52e0d308",
   "metadata": {},
   "outputs": [],
   "source": [
    "name = \"Skudderudite\"\n",
    "\n",
    "nr = crystal_specs[name][\"nr\"]\n",
    "setting = crystal_specs[name][\"setting\"]\n",
    "basis = crystal_specs[name][\"basis\"]\n",
    "symbols = crystal_specs[name][\"symbols\"]\n",
    "a_direction = crystal_specs[name][\"a_direction\"]\n",
    "ab_normal = crystal_specs[name][\"ab_normal\"]\n",
    "cellpar = crystal_specs[name][\"cellpar\"];"
   ]
  },
  {
   "cell_type": "markdown",
   "id": "9473fdfd",
   "metadata": {},
   "source": [
    "Using the `make_unitcell` convenience function"
   ]
  },
  {
   "cell_type": "code",
   "execution_count": null,
   "id": "77df9385",
   "metadata": {},
   "outputs": [],
   "source": [
    "crystal = Crystal.make_unitcell(basis, symbols, nr, setting, cellpar,\n",
    "                       a_direction=a_direction, ab_normal=ab_normal)\n",
    "println(crystal)"
   ]
  },
  {
   "cell_type": "markdown",
   "id": "7e6bac3f",
   "metadata": {},
   "source": [
    "If you just want to create crystals and don't care about the clockwork in the background you don't need to look any further."
   ]
  },
  {
   "cell_type": "markdown",
   "id": "df3ead55",
   "metadata": {},
   "source": [
    "### Decomposing the high level functions"
   ]
  },
  {
   "cell_type": "markdown",
   "id": "f9f2ef6c",
   "metadata": {},
   "source": [
    "#### Collecting symmetry operations"
   ]
  },
  {
   "cell_type": "code",
   "execution_count": null,
   "id": "8ecf7ec2",
   "metadata": {},
   "outputs": [],
   "source": [
    "spgs = Crystal.load_spgs()\n",
    "nr = crystal_specs[name][\"nr\"]\n",
    "setting = crystal_specs[name][\"setting\"]\n",
    "spg = spgs[\"$(nr): $(setting)\"]"
   ]
  },
  {
   "cell_type": "code",
   "execution_count": null,
   "id": "9c8c68a7",
   "metadata": {},
   "outputs": [],
   "source": [
    "function parse_spg(spg::Dict{String,Any})::Dict{String,Any}\n",
    "    spg[\"subtrans\"] = [Array{Float64}(reshape(v,3)) for v in spg[\"subtrans\"]]\n",
    "    spg[\"translations\"] = [Array{Float64}(reshape(v,3)) for v in spg[\"translations\"]]\n",
    "    spg[\"rotations\"] = [Array{Float64}(hcat(v...)) for v in spg[\"rotations\"]]\n",
    "    return spg\n",
    "end"
   ]
  },
  {
   "cell_type": "code",
   "execution_count": null,
   "id": "4f70cc86",
   "metadata": {},
   "outputs": [],
   "source": [
    "spg = parse_spg(spg)"
   ]
  },
  {
   "cell_type": "code",
   "execution_count": null,
   "id": "96b36c4f",
   "metadata": {},
   "outputs": [],
   "source": [
    "function get_symops(spg::Dict)\n",
    "    parities = spg[\"centrosymmetric\"] ? [1,-1] : [1]\n",
    "    symops = []\n",
    "    @assert length(spg[\"rotations\"]) == length(spg[\"translations\"])\n",
    "    for (parity, trans_sub) in Iterators.product(parities, spg[\"subtrans\"])\n",
    "        for (rot, trans) in Iterators.zip(spg[\"rotations\"], spg[\"translations\"])\n",
    "            push!(symops, (parity * rot,\n",
    "                           (trans + trans_sub) .% 1))\n",
    "        end\n",
    "    end\n",
    "    return symops\n",
    "end"
   ]
  },
  {
   "cell_type": "code",
   "execution_count": null,
   "id": "90a8d689",
   "metadata": {
    "scrolled": true
   },
   "outputs": [],
   "source": [
    "symops = get_symops(spg)\n",
    "symops[:4]"
   ]
  },
  {
   "cell_type": "markdown",
   "id": "9fbdbce5",
   "metadata": {},
   "source": [
    "#### Generating equivalent sites of the basis"
   ]
  },
  {
   "cell_type": "code",
   "execution_count": null,
   "id": "d62e974d",
   "metadata": {},
   "outputs": [],
   "source": [
    "function fold(x::T) where T<:Any\n",
    "    return x < 0 ? x + 1 : x\n",
    "end\n",
    "\n",
    "function get_equivalent_sites(basis::Array{Array{Float64,2},1}, symops)\n",
    "    kinds, sites = [], []\n",
    "\n",
    "    for (kind, pos) in enumerate(basis)\n",
    "        for (rot, trans) in symops\n",
    "            site = (transpose(pos * rot) + trans) .% 1\n",
    "            site = fold.(site)\n",
    "            isdifferent = !any([v ≈ site for v in sites])\n",
    "            if ((length(sites) == 0) | isdifferent)\n",
    "                push!(sites, site)\n",
    "                append!(kinds, kind)\n",
    "            end\n",
    "        end\n",
    "    end\n",
    "    return sites, kinds\n",
    "end"
   ]
  },
  {
   "cell_type": "markdown",
   "id": "09feecf2",
   "metadata": {},
   "source": [
    "Using the basis and the symmetry operations we can generate the equivalent sites"
   ]
  },
  {
   "cell_type": "code",
   "execution_count": null,
   "id": "155d2278",
   "metadata": {},
   "outputs": [],
   "source": [
    "basis = crystal_specs[name][\"basis\"]\n",
    "sites, kinds = get_equivalent_sites(basis, symops)"
   ]
  },
  {
   "cell_type": "markdown",
   "id": "2484ff8c",
   "metadata": {},
   "source": [
    "#### Computing the cell box vectors"
   ]
  },
  {
   "cell_type": "code",
   "execution_count": null,
   "id": "44d43478",
   "metadata": {
    "scrolled": true
   },
   "outputs": [],
   "source": [
    "function make_unit_vec(x::Array{T,1}) where T<:Any\n",
    "    return x / norm(x)\n",
    "end\n",
    "\n",
    "function get_coords(a_direction::Array{Float64,1}, ab_normal::Array{Float64,1})\n",
    "    @assert dot(a_direction, ab_normal) ≈ 0.\n",
    "    _x = make_unit_vec(a_direction)\n",
    "    z = make_unit_vec(ab_normal)\n",
    "\n",
    "    x = _x - dot(_x, ab_normal) * z\n",
    "    xyz = hcat(x, cross(z,x), z)\n",
    "    return xyz\n",
    "end"
   ]
  },
  {
   "cell_type": "code",
   "execution_count": null,
   "id": "e5cfdd73",
   "metadata": {},
   "outputs": [],
   "source": [
    "a_direction = crystal_specs[name][\"a_direction\"]\n",
    "ab_normal = crystal_specs[name][\"ab_normal\"]\n",
    "xyz = get_coords(a_direction, ab_normal)"
   ]
  },
  {
   "cell_type": "code",
   "execution_count": null,
   "id": "9ad2a2cd",
   "metadata": {},
   "outputs": [],
   "source": [
    "function deg2rad(x::T) where T <: Real\n",
    "    return x * π / 180.\n",
    "end\n",
    "\n",
    "function get_cos(x::T) where T <: Real\n",
    "    return x ≈ 90 ? 0 : cos(deg2rad(x))\n",
    "end\n",
    "\n",
    "function get_cell_vectors(cellpar::Array{Float64,1})\n",
    "    a, b, c, α, β, γ = cellpar\n",
    "    cos_α = get_cos(α)\n",
    "    cos_β = get_cos(β)\n",
    "    cos_γ = get_cos(abs(γ))\n",
    "    sin_γ = abs(γ) ≈ 90 ? sign(γ) : sin(deg2rad(γ))\n",
    "    cos_α, cos_β, cos_γ, sin_γ\n",
    "    \n",
    "    cy = (cos_α - cos_β * cos_γ) / sin_γ\n",
    "    abc = hcat([a; 0; 0], b*[cos_γ; sin_γ; 0], c*[cos_β; cy; √(1-cos_β*cos_β-cy*cy)])\n",
    "    return abc\n",
    "end"
   ]
  },
  {
   "cell_type": "code",
   "execution_count": null,
   "id": "e7e3767e",
   "metadata": {},
   "outputs": [],
   "source": [
    "abc = get_cell_vectors(crystal_specs[name][\"cellpar\"])"
   ]
  },
  {
   "cell_type": "code",
   "execution_count": null,
   "id": "ab2347a7",
   "metadata": {},
   "outputs": [],
   "source": [
    "cell = abc * xyz"
   ]
  },
  {
   "cell_type": "markdown",
   "id": "cb6699e5",
   "metadata": {},
   "source": [
    "#### Storing everything within a `Crystal.Cell` struct"
   ]
  },
  {
   "cell_type": "code",
   "execution_count": null,
   "id": "07610c5b",
   "metadata": {},
   "outputs": [],
   "source": [
    "chemical_symbols, atomic_numbers, masses = Crystal.get_chemical_info()"
   ]
  },
  {
   "cell_type": "code",
   "execution_count": null,
   "id": "51799397",
   "metadata": {},
   "outputs": [],
   "source": [
    "# storing crystal properties in a `Crystal.Cell` instance\n",
    "el2atom_map = Dict(el => Crystal.Atom(name=el, mass=masses[el]) for el in keys(masses))\n",
    "\n",
    "cc = Crystal.CartesianCoords(Float64)\n",
    "box = Crystal.PrimitiveVectors(cc, A₁=abc[:,1], A₂=abc[:,2], A₃=abc[:,3])\n",
    "\n",
    "_spg = Crystal.Spacegroup(nr, setting, kinds, sites)\n",
    "\n",
    "crystal = Crystal.Cell(\n",
    "    [el2atom_map[symbols[v]] for v in kinds],\n",
    "    [cell * v for v in  sites],\n",
    "    box,\n",
    "    [norm(abc[:,1]), norm(abc[:,2]), norm(abc[:,3])],\n",
    "    _spg\n",
    ")"
   ]
  },
  {
   "cell_type": "markdown",
   "id": "53d589c3",
   "metadata": {},
   "source": [
    "### Plotting a `Crystal.Cell` struct"
   ]
  },
  {
   "cell_type": "code",
   "execution_count": null,
   "id": "1410d6df",
   "metadata": {},
   "outputs": [],
   "source": [
    "function plot_crystal(cell::Crystal.Cell;\n",
    "        default_color::String=\"blue\",\n",
    "        element_color_map::Dict=Dict{String,String}(\"Fe\" => \"blue\"),\n",
    "        default_size::T=50,\n",
    "        element_size_map::Dict=Dict{String,Any}()\n",
    "    ) where T <: Real\n",
    "    \n",
    "    atoms, coords = cell.atoms, cell.positions \n",
    "    \n",
    "    elements = Set([atom.name for atom in atoms])\n",
    "    for element in elements\n",
    "        if !haskey(element_color_map, element)\n",
    "            element_color_map[element] = default_color\n",
    "        end\n",
    "        if !haskey(element_size_map, element)\n",
    "            element_size_map[element] = default_size\n",
    "        end\n",
    "    end\n",
    "    colors = [element_color_map[atom.name] for atom in atoms]\n",
    "    sizes = [element_size_map[atom.name] for atom in atoms]\n",
    "\n",
    "    x = [v[1] for v in coords]\n",
    "    y = [v[2] for v in coords]\n",
    "    z = [v[3] for v in coords]\n",
    "    return @gif for i in range(0, stop=2π, length=100)\n",
    "        scatter(x, y, z, camera=(10*(1+cos(i)),5),\n",
    "            markersize=sizes, legend=false, \n",
    "            color=colors, aspect_ratio=:equal,\n",
    "            xlabel=L\"x\", ylabel=L\"y\", zlabel=L\"z\",\n",
    "            title=string(length(atoms), \" atoms of: \", join(elements, \",\"))\n",
    "        )\n",
    "    end\n",
    "end"
   ]
  },
  {
   "cell_type": "code",
   "execution_count": null,
   "id": "a4dfd97c",
   "metadata": {},
   "outputs": [],
   "source": [
    "element_color_map = Dict(\"Na\" => \"purple\", \"Cl\" => \"green\",\n",
    "    \"Co\"=>\"pink\", \"Sb\"=>\"purple\")\n",
    "element_size_map = Dict(\"Na\"=>20,\"Cl\"=>10, \"Co\"=>15, \"Sb\"=>15)"
   ]
  },
  {
   "cell_type": "code",
   "execution_count": null,
   "id": "4b97a81f",
   "metadata": {},
   "outputs": [],
   "source": [
    "plot_crystal(crystal, \n",
    "    element_color_map=element_color_map,\n",
    "    element_size_map=element_size_map,\n",
    "    default_size=5)"
   ]
  },
  {
   "cell_type": "markdown",
   "id": "66775a31",
   "metadata": {},
   "source": [
    "## Sanity checking generated positions and cell boxes"
   ]
  },
  {
   "cell_type": "markdown",
   "id": "df6ddd6d",
   "metadata": {},
   "source": [
    "Using `ase` as a reference we can directly check if our positions and cell boxes have the expected values. For this we load pre-computed values from disk."
   ]
  },
  {
   "cell_type": "code",
   "execution_count": null,
   "id": "1e703f56",
   "metadata": {},
   "outputs": [],
   "source": [
    "json_ase_crystals = Crystal.load_refs()"
   ]
  },
  {
   "cell_type": "markdown",
   "id": "041648f6",
   "metadata": {},
   "source": [
    "### Checking a single crystal"
   ]
  },
  {
   "cell_type": "code",
   "execution_count": null,
   "id": "f4b8a299",
   "metadata": {},
   "outputs": [],
   "source": [
    "name = \"Skudderudite\""
   ]
  },
  {
   "cell_type": "code",
   "execution_count": null,
   "id": "78c8b327",
   "metadata": {},
   "outputs": [],
   "source": [
    "json_ase_crystal = json_ase_crystals[name]"
   ]
  },
  {
   "cell_type": "code",
   "execution_count": null,
   "id": "7a177d2d",
   "metadata": {},
   "outputs": [],
   "source": [
    "ase_crystal = Crystal.parse_json_crystal(json_ase_crystal)"
   ]
  },
  {
   "cell_type": "code",
   "execution_count": null,
   "id": "7d79fa59",
   "metadata": {},
   "outputs": [],
   "source": [
    "function positions_match_ase(crystal::Crystal.Cell, ase_crystal::Dict)\n",
    "    return all([p0 ≈ p1 for (p0,p1) in zip(ase_crystal[\"positions\"],crystal.positions)])\n",
    "end"
   ]
  },
  {
   "cell_type": "code",
   "execution_count": null,
   "id": "7ce5a906",
   "metadata": {},
   "outputs": [],
   "source": [
    "@assert positions_match_ase(crystal, ase_crystal)"
   ]
  },
  {
   "cell_type": "code",
   "execution_count": null,
   "id": "3a84eea9",
   "metadata": {},
   "outputs": [],
   "source": [
    "function cell_matches_ase(crystal::Crystal.Cell, ase_crystal::Dict)\n",
    "    return crystal.box.M ≈ ase_crystal[\"cell\"]\n",
    "end"
   ]
  },
  {
   "cell_type": "code",
   "execution_count": null,
   "id": "fbaa7377",
   "metadata": {},
   "outputs": [],
   "source": [
    "@assert cell_matches_ase(crystal, ase_crystal)"
   ]
  },
  {
   "cell_type": "markdown",
   "id": "753dd6ee",
   "metadata": {},
   "source": [
    "### Looping all crystals"
   ]
  },
  {
   "cell_type": "markdown",
   "id": "e1534fcb",
   "metadata": {},
   "source": [
    "All right, looks good so far. Let's check all crystals"
   ]
  },
  {
   "cell_type": "code",
   "execution_count": null,
   "id": "dd1b0357",
   "metadata": {},
   "outputs": [],
   "source": [
    "crystals = Dict()\n",
    "\n",
    "for name in keys(crystal_specs)\n",
    "    @testset \"$(name)\" begin\n",
    "        nr = crystal_specs[name][\"nr\"]\n",
    "        setting = crystal_specs[name][\"setting\"]\n",
    "        basis = crystal_specs[name][\"basis\"]\n",
    "        symbols = crystal_specs[name][\"symbols\"]\n",
    "        a_direction = crystal_specs[name][\"a_direction\"]\n",
    "        ab_normal = crystal_specs[name][\"ab_normal\"]\n",
    "        cellpar = crystal_specs[name][\"cellpar\"]\n",
    "\n",
    "        crystal = Crystal.make_unitcell(basis, symbols, nr, setting, cellpar,\n",
    "                               a_direction=a_direction, ab_normal=ab_normal)\n",
    "        ase_crystal = Crystal.parse_json_crystal(json_ase_crystals[name])\n",
    "        \n",
    "        @testset \"positions match\" begin \n",
    "            @test positions_match_ase(crystal, ase_crystal)\n",
    "        end\n",
    "        @testset \"cell match\" begin\n",
    "            @test cell_matches_ase(crystal, ase_crystal)\n",
    "        end\n",
    "        \n",
    "        crystals[name] = crystal\n",
    "        \n",
    "    end\n",
    "end"
   ]
  },
  {
   "cell_type": "markdown",
   "id": "dcab01d1",
   "metadata": {},
   "source": [
    "## Generating a supercell"
   ]
  },
  {
   "cell_type": "markdown",
   "id": "5e0b535a",
   "metadata": {},
   "source": [
    "By cloning and shifting the atoms of the unitcell along the cell box vectors by integers up to `nx`, `ny` and `nz` we create a *supercell*"
   ]
  },
  {
   "cell_type": "code",
   "execution_count": null,
   "id": "71ea4f4e",
   "metadata": {},
   "outputs": [],
   "source": [
    "name = \"Al_fcc\"\n",
    "supercell = Crystal.make_supercell(crystals[name], nx=3, ny=3, nz=3);"
   ]
  },
  {
   "cell_type": "code",
   "execution_count": null,
   "id": "7744e9b4",
   "metadata": {},
   "outputs": [],
   "source": [
    "plot_crystal(supercell, \n",
    "    element_color_map=element_color_map,\n",
    "    element_size_map=element_size_map,\n",
    "    default_size=5)"
   ]
  },
  {
   "cell_type": "markdown",
   "id": "b2685448",
   "metadata": {},
   "source": [
    "## Storing crystal as json readable by `ase.Atoms.fromdict`"
   ]
  },
  {
   "cell_type": "markdown",
   "id": "81b964a7",
   "metadata": {},
   "source": [
    "Since one may want to re-use the crystals created with this julia package from python with ase, let's export them."
   ]
  },
  {
   "cell_type": "code",
   "execution_count": null,
   "id": "5deffc49",
   "metadata": {},
   "outputs": [],
   "source": [
    "ds = Dict(name => Crystal.cell2dict(crystals[name])\n",
    "          for name in keys(crystals))\n",
    "\n",
    "open(\"julia-atoms.json\",\"w\") do f\n",
    "    JSON.print(f, ds)\n",
    "end"
   ]
  },
  {
   "cell_type": "code",
   "execution_count": null,
   "id": "69a04e55",
   "metadata": {},
   "outputs": [],
   "source": []
  }
 ],
 "metadata": {
  "kernelspec": {
   "display_name": "Julia 1.5.3",
   "language": "julia",
   "name": "julia-1.5"
  },
  "language_info": {
   "file_extension": ".jl",
   "mimetype": "application/julia",
   "name": "julia",
   "version": "1.5.3"
  },
  "toc": {
   "base_numbering": 1,
   "nav_menu": {
    "height": "302.4px",
    "width": "318.4px"
   },
   "number_sections": true,
   "sideBar": true,
   "skip_h1_title": false,
   "title_cell": "Table of Contents",
   "title_sidebar": "Contents",
   "toc_cell": false,
   "toc_position": {},
   "toc_section_display": true,
   "toc_window_display": false
  }
 },
 "nbformat": 4,
 "nbformat_minor": 5
}
