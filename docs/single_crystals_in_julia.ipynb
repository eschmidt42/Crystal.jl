{
 "cells": [
  {
   "cell_type": "markdown",
   "id": "01c9d47d",
   "metadata": {},
   "source": [
    "# Single crystals in Julia"
   ]
  },
  {
   "cell_type": "markdown",
   "id": "1dfe2e8b",
   "metadata": {},
   "source": [
    "Content of this notebook:\n",
    "* How to create single crystal unitcells and supercells using `ase`'s algorithm\n",
    "* How to visualize a crystal\n",
    "* How to test a crystal against a reference from the Pyhton module `ase`"
   ]
  },
  {
   "cell_type": "code",
   "execution_count": null,
   "id": "c9999ef5",
   "metadata": {},
   "outputs": [],
   "source": [
    "import Pkg\n",
    "Pkg.activate(\".\")\n",
    "Pkg.instantiate()"
   ]
  },
  {
   "cell_type": "code",
   "execution_count": null,
   "id": "ef55bf51",
   "metadata": {},
   "outputs": [],
   "source": [
    "using Plots\n",
    "using LaTeXStrings\n",
    "using JSON\n",
    "using LinearAlgebra\n",
    "using Test\n",
    "using SingleCrystal"
   ]
  },
  {
   "cell_type": "markdown",
   "id": "e31e1ea7",
   "metadata": {},
   "source": [
    "## Specifying single crystals"
   ]
  },
  {
   "cell_type": "code",
   "execution_count": null,
   "id": "14bf876a",
   "metadata": {},
   "outputs": [],
   "source": [
    "crystal_specs = Dict(\n",
    "    # NaCl structure\n",
    "    \"NaCl\" => Dict(\n",
    "        \"symbols\" => [\"Na\", \"Cl\"],\n",
    "        \"basis\" => [[0. 0. 0.], [.5 .5 .5]], # scaled coordinates\n",
    "        \"nr\" => 225,\n",
    "        \"setting\" => 1,\n",
    "        \"a_direction\" => [1.; 0.; 0.],\n",
    "        \"ab_normal\" => [0.; 0.; 1.],\n",
    "        \"cellpar\" => [5.64, 5.64, 5.64, 90, 90, 90]\n",
    "    ),\n",
    "    # Al fcc structure\n",
    "    \"Al_fcc\" => Dict(\n",
    "        \"symbols\" => [\"Al\"],\n",
    "        \"basis\" => [[0. 0. 0.],], # scaled coordinates\n",
    "        \"nr\" => 225,\n",
    "        \"setting\" => 1,\n",
    "        \"a_direction\" => [1.; 0.; 0.],\n",
    "        \"ab_normal\" => [0.; 0.; 1.],\n",
    "        \"cellpar\" => [4.05, 4.05, 4.05, 90, 90, 90]\n",
    "    ),\n",
    "    # Fe bcc structure\n",
    "    \"Fe_bcc\" => Dict(\n",
    "        \"symbols\" => [\"Fe\"],\n",
    "        \"basis\" => [[0. 0. 0.],], # scaled coordinates\n",
    "        \"nr\" => 229,\n",
    "        \"setting\" => 1,\n",
    "        \"a_direction\" => [1.; 0.; 0.],\n",
    "        \"ab_normal\" => [0.; 0.; 1.],\n",
    "        \"cellpar\" => [2.87, 2.87, 2.87, 90, 90, 90]\n",
    "    ),\n",
    "    # Mg hcp structure\n",
    "    \"Mg_hcp\" => Dict(\n",
    "        \"symbols\" => [\"Mg\"],\n",
    "        \"basis\" => [[1/3 2/3 3/4],], # scaled coordinates\n",
    "        \"nr\" => 194,\n",
    "        \"setting\" => 1,\n",
    "        \"a_direction\" => [1.; 0.; 0.],\n",
    "        \"ab_normal\" => [0.; 0.; 1.],\n",
    "        \"cellpar\" => [3.21, 3.21, 5.21, 90, 90, 120]\n",
    "    ),\n",
    "    # Diamond structure\n",
    "    \"Diamond\" => Dict(\n",
    "        \"symbols\" => [\"C\"],\n",
    "        \"basis\" => [[0. 0. 0.],], # scaled coordinates\n",
    "        \"nr\" => 227,\n",
    "        \"setting\" => 1,\n",
    "        \"a_direction\" => [1.; 0.; 0.],\n",
    "        \"ab_normal\" => [0.; 0.; 1.],\n",
    "        \"cellpar\" => [3.57, 3.57, 3.57, 90, 90, 90]\n",
    "    ),\n",
    "    # Rutile structure\n",
    "    \"Rutile\" => Dict(\n",
    "        \"symbols\" => [\"Ti\", \"O\"],\n",
    "        \"basis\" => [[0. 0. 0.], [.3 .3 0.]], # scaled coordinates\n",
    "        \"nr\" => 136,\n",
    "        \"setting\" => 1,\n",
    "        \"a_direction\" => [1.; 0.; 0.],\n",
    "        \"ab_normal\" => [0.; 0.; 1.],\n",
    "        \"cellpar\" => [4.6, 4.6, 2.95, 90, 90, 90]\n",
    "    ),\n",
    "    # CoSb3 skudderudite\n",
    "    \"Skudderudite\" => Dict(\n",
    "        \"symbols\" => [\"Co\", \"Sb\"],\n",
    "        \"basis\" => [[.25 .25 .25], [0. .335 .158]], # scaled coordinates\n",
    "        \"nr\" => 204,\n",
    "        \"setting\" => 1,\n",
    "        \"a_direction\" => [1.; 0.; 0.],\n",
    "        \"ab_normal\" => [0.; 0.; 1.],\n",
    "        \"cellpar\" => [9.04, 9.04, 9.04, 90, 90, 90]\n",
    "    )\n",
    ");"
   ]
  },
  {
   "cell_type": "markdown",
   "id": "0ca5d3a7",
   "metadata": {},
   "source": [
    "## Constructing a single crystal"
   ]
  },
  {
   "cell_type": "markdown",
   "id": "d5499e37",
   "metadata": {},
   "source": [
    "### How to"
   ]
  },
  {
   "cell_type": "markdown",
   "id": "b822a232",
   "metadata": {},
   "source": [
    "#### Cubic BCC crystals using `SingleCrystal.make_bcc_unitcell`"
   ]
  },
  {
   "cell_type": "markdown",
   "id": "cf7a4100",
   "metadata": {},
   "source": [
    "`SingleCrystal.make_bcc_unitcell` one can directly create bcc unit cells with little effort."
   ]
  },
  {
   "cell_type": "code",
   "execution_count": null,
   "id": "3689519c",
   "metadata": {
    "scrolled": true
   },
   "outputs": [],
   "source": [
    "SingleCrystal.make_bcc_unitcell(\"Fe\", 3.4)"
   ]
  },
  {
   "cell_type": "markdown",
   "id": "0a576f68",
   "metadata": {},
   "source": [
    "In case you need fcc unit cells you can similarly make use of `SingleCrystal.make_fcc_unitcell`."
   ]
  },
  {
   "cell_type": "markdown",
   "id": "8ec0fd20",
   "metadata": {},
   "source": [
    "#### Cubic BCC crystal using `SingleCrystal.make_unitcell`"
   ]
  },
  {
   "cell_type": "markdown",
   "id": "16fbab81",
   "metadata": {},
   "source": [
    "What `SingleCrystal.make_bcc_unitcell` does is call `SingleCrystal.make_unitcell` with certain parameters like"
   ]
  },
  {
   "cell_type": "code",
   "execution_count": null,
   "id": "bceb80d9",
   "metadata": {},
   "outputs": [],
   "source": [
    "symbols = [\"Fe\"] # chemical elements\n",
    "basis = [[0. 0. 0.],] # scaled coordinates\n",
    "nr = 229 # space group\n",
    "setting = 1 # space group settig (greetings from ase)\n",
    "a_direction = [1.; 0.; 0.] # direction of the first cell vector\n",
    "ab_normal = [0.; 0.; 1.] # cross product of the first two cell vectors\n",
    "cellpar = [2.87, 2.87, 2.87, 90, 90, 90]; # a, b, c, α, β, γ"
   ]
  },
  {
   "cell_type": "code",
   "execution_count": null,
   "id": "4f763225",
   "metadata": {},
   "outputs": [],
   "source": [
    "crystal = SingleCrystal.make_unitcell(basis, symbols, nr, setting, cellpar,\n",
    "                       a_direction=a_direction, ab_normal=ab_normal)\n",
    "println(crystal)"
   ]
  },
  {
   "cell_type": "markdown",
   "id": "8aceb2d4",
   "metadata": {},
   "source": [
    "#### Skudderudite using `SingleCrystal.make_unitcell`"
   ]
  },
  {
   "cell_type": "markdown",
   "id": "a78a39b3",
   "metadata": {},
   "source": [
    "Alternatively you can create more complex structures, like Skudderudite"
   ]
  },
  {
   "cell_type": "code",
   "execution_count": null,
   "id": "e93f9dda",
   "metadata": {},
   "outputs": [],
   "source": [
    "name = \"Skudderudite\"\n",
    "\n",
    "nr = crystal_specs[name][\"nr\"]\n",
    "setting = crystal_specs[name][\"setting\"]\n",
    "basis = crystal_specs[name][\"basis\"]\n",
    "symbols = crystal_specs[name][\"symbols\"]\n",
    "a_direction = crystal_specs[name][\"a_direction\"]\n",
    "ab_normal = crystal_specs[name][\"ab_normal\"]\n",
    "cellpar = crystal_specs[name][\"cellpar\"];"
   ]
  },
  {
   "cell_type": "markdown",
   "id": "1e6aca87",
   "metadata": {},
   "source": [
    "also using the `SingleCrystal.make_unitcell` convenience function"
   ]
  },
  {
   "cell_type": "code",
   "execution_count": null,
   "id": "5fabb61d",
   "metadata": {
    "scrolled": true
   },
   "outputs": [],
   "source": [
    "crystal = SingleCrystal.make_unitcell(basis, symbols, nr, setting, cellpar,\n",
    "                       a_direction=a_direction, ab_normal=ab_normal)\n",
    "println(crystal)"
   ]
  },
  {
   "cell_type": "markdown",
   "id": "dc620f85",
   "metadata": {},
   "source": [
    "#### Plotting `crystal`"
   ]
  },
  {
   "cell_type": "code",
   "execution_count": null,
   "id": "f73b78b2",
   "metadata": {},
   "outputs": [],
   "source": [
    "function plot_crystal(cell::SingleCrystal.Cell;\n",
    "        default_color::String=\"blue\",\n",
    "        element_color_map::Dict=Dict{String,String}(\"Fe\" => \"blue\"),\n",
    "        default_size::T=50,\n",
    "        element_size_map::Dict=Dict{String,Any}()\n",
    "    ) where T <: Real\n",
    "    \n",
    "    atoms, coords = cell.atoms, cell.positions \n",
    "    \n",
    "    elements = Set([atom.name for atom in atoms])\n",
    "    for element in elements\n",
    "        if !haskey(element_color_map, element)\n",
    "            element_color_map[element] = default_color\n",
    "        end\n",
    "        if !haskey(element_size_map, element)\n",
    "            element_size_map[element] = default_size\n",
    "        end\n",
    "    end\n",
    "    colors = [element_color_map[atom.name] for atom in atoms]\n",
    "    sizes = [element_size_map[atom.name] for atom in atoms]\n",
    "\n",
    "    x = [v[1] for v in coords]\n",
    "    y = [v[2] for v in coords]\n",
    "    z = [v[3] for v in coords]\n",
    "    return @gif for i in range(0, stop=2π, length=100)\n",
    "        scatter(x, y, z, camera=(10*(1+cos(i)),5),\n",
    "            markersize=sizes, legend=false, \n",
    "            color=colors, aspect_ratio=:equal,\n",
    "            xlabel=L\"x\", ylabel=L\"y\", zlabel=L\"z\",\n",
    "            title=string(length(atoms), \" atoms of: \", join(elements, \",\"))\n",
    "        )\n",
    "    end\n",
    "end"
   ]
  },
  {
   "cell_type": "code",
   "execution_count": null,
   "id": "541851b5",
   "metadata": {},
   "outputs": [],
   "source": [
    "element_color_map = Dict(\"Na\" => \"purple\", \"Cl\" => \"green\",\n",
    "    \"Co\"=>\"pink\", \"Sb\"=>\"purple\")\n",
    "element_size_map = Dict(\"Na\"=>20,\"Cl\"=>10, \"Co\"=>15, \"Sb\"=>15)"
   ]
  },
  {
   "cell_type": "code",
   "execution_count": null,
   "id": "01c8365a",
   "metadata": {},
   "outputs": [],
   "source": [
    "plot_crystal(crystal, \n",
    "    element_color_map=element_color_map,\n",
    "    element_size_map=element_size_map,\n",
    "    default_size=5)"
   ]
  },
  {
   "cell_type": "markdown",
   "id": "e15ec982",
   "metadata": {},
   "source": [
    "#### Generating a supercell"
   ]
  },
  {
   "cell_type": "markdown",
   "id": "4bf0f1a2",
   "metadata": {},
   "source": [
    "By cloning and shifting the atoms of the unitcell along the cell box vectors by integers up to `nx`, `ny` and `nz` we create a *supercell*"
   ]
  },
  {
   "cell_type": "code",
   "execution_count": null,
   "id": "a7450c21",
   "metadata": {},
   "outputs": [],
   "source": [
    "supercell = SingleCrystal.make_supercell(crystal, nx=3, ny=3, nz=3);"
   ]
  },
  {
   "cell_type": "code",
   "execution_count": null,
   "id": "53c81670",
   "metadata": {},
   "outputs": [],
   "source": [
    "plot_crystal(supercell, \n",
    "    element_color_map=element_color_map,\n",
    "    element_size_map=element_size_map,\n",
    "    default_size=5)"
   ]
  },
  {
   "cell_type": "markdown",
   "id": "9444c602",
   "metadata": {},
   "source": [
    "### Behind the scenes ops"
   ]
  },
  {
   "cell_type": "markdown",
   "id": "d794fa9c",
   "metadata": {},
   "source": [
    "Above the high level convenience functions were introduced to create unit cells. This section contains the behind the scenes in operations in `SingleCrystal.make_unitcell`. So, the following is only for you if you are curios, and not necessary knowledge to create unitcells with this package. "
   ]
  },
  {
   "cell_type": "markdown",
   "id": "09c1d903",
   "metadata": {},
   "source": [
    "#### Collecting symmetry operations"
   ]
  },
  {
   "cell_type": "code",
   "execution_count": null,
   "id": "9624952a",
   "metadata": {},
   "outputs": [],
   "source": [
    "spgs = SingleCrystal.load_spgs()\n",
    "nr = crystal_specs[name][\"nr\"]\n",
    "setting = crystal_specs[name][\"setting\"]\n",
    "spg = spgs[\"$(nr): $(setting)\"]"
   ]
  },
  {
   "cell_type": "code",
   "execution_count": null,
   "id": "f8ee9204",
   "metadata": {},
   "outputs": [],
   "source": [
    "function parse_spg(spg::Dict{String,Any})::Dict{String,Any}\n",
    "    spg[\"subtrans\"] = [Array{Float64}(reshape(v,3)) for v in spg[\"subtrans\"]]\n",
    "    spg[\"translations\"] = [Array{Float64}(reshape(v,3)) for v in spg[\"translations\"]]\n",
    "    spg[\"rotations\"] = [Array{Float64}(hcat(v...)) for v in spg[\"rotations\"]]\n",
    "    return spg\n",
    "end"
   ]
  },
  {
   "cell_type": "code",
   "execution_count": null,
   "id": "fa65a2f4",
   "metadata": {},
   "outputs": [],
   "source": [
    "spg = parse_spg(spg)"
   ]
  },
  {
   "cell_type": "code",
   "execution_count": null,
   "id": "40ca744b",
   "metadata": {},
   "outputs": [],
   "source": [
    "function get_symops(spg::Dict)\n",
    "    parities = spg[\"centrosymmetric\"] ? [1,-1] : [1]\n",
    "    symops = []\n",
    "    @assert length(spg[\"rotations\"]) == length(spg[\"translations\"])\n",
    "    for (parity, trans_sub) in Iterators.product(parities, spg[\"subtrans\"])\n",
    "        for (rot, trans) in Iterators.zip(spg[\"rotations\"], spg[\"translations\"])\n",
    "            push!(symops, (parity * rot,\n",
    "                           (trans + trans_sub) .% 1))\n",
    "        end\n",
    "    end\n",
    "    return symops\n",
    "end"
   ]
  },
  {
   "cell_type": "code",
   "execution_count": null,
   "id": "f164426f",
   "metadata": {
    "scrolled": true
   },
   "outputs": [],
   "source": [
    "symops = get_symops(spg)\n",
    "symops[:4]"
   ]
  },
  {
   "cell_type": "markdown",
   "id": "9e745ec0",
   "metadata": {},
   "source": [
    "#### Generating equivalent sites of the basis"
   ]
  },
  {
   "cell_type": "code",
   "execution_count": null,
   "id": "86b5f4df",
   "metadata": {},
   "outputs": [],
   "source": [
    "function fold(x::T) where T<:Any\n",
    "    return x < 0 ? x + 1 : x\n",
    "end\n",
    "\n",
    "function get_equivalent_sites(basis::Array{Array{Float64,2},1}, symops)\n",
    "    kinds, sites = [], []\n",
    "\n",
    "    for (kind, pos) in enumerate(basis)\n",
    "        for (rot, trans) in symops\n",
    "            site = (transpose(pos * rot) + trans) .% 1\n",
    "            site = fold.(site)\n",
    "            isdifferent = !any([v ≈ site for v in sites])\n",
    "            if ((length(sites) == 0) | isdifferent)\n",
    "                push!(sites, site)\n",
    "                append!(kinds, kind)\n",
    "            end\n",
    "        end\n",
    "    end\n",
    "    return sites, kinds\n",
    "end"
   ]
  },
  {
   "cell_type": "markdown",
   "id": "904aa1d4",
   "metadata": {},
   "source": [
    "Using the basis and the symmetry operations we can generate the equivalent sites"
   ]
  },
  {
   "cell_type": "code",
   "execution_count": null,
   "id": "b9324089",
   "metadata": {},
   "outputs": [],
   "source": [
    "basis = crystal_specs[name][\"basis\"]\n",
    "sites, kinds = get_equivalent_sites(basis, symops)"
   ]
  },
  {
   "cell_type": "markdown",
   "id": "3b25aace",
   "metadata": {},
   "source": [
    "#### Computing the cell box vectors"
   ]
  },
  {
   "cell_type": "code",
   "execution_count": null,
   "id": "010b5ae4",
   "metadata": {
    "scrolled": true
   },
   "outputs": [],
   "source": [
    "function make_unit_vec(x::Array{T,1}) where T<:Any\n",
    "    return x / norm(x)\n",
    "end\n",
    "\n",
    "function get_coords(a_direction::Array{Float64,1}, ab_normal::Array{Float64,1})\n",
    "    @assert dot(a_direction, ab_normal) ≈ 0.\n",
    "    _x = make_unit_vec(a_direction)\n",
    "    z = make_unit_vec(ab_normal)\n",
    "\n",
    "    x = _x - dot(_x, ab_normal) * z\n",
    "    xyz = hcat(x, cross(z,x), z)\n",
    "    return xyz\n",
    "end"
   ]
  },
  {
   "cell_type": "code",
   "execution_count": null,
   "id": "f1e68900",
   "metadata": {},
   "outputs": [],
   "source": [
    "a_direction = crystal_specs[name][\"a_direction\"]\n",
    "ab_normal = crystal_specs[name][\"ab_normal\"]\n",
    "xyz = get_coords(a_direction, ab_normal)"
   ]
  },
  {
   "cell_type": "code",
   "execution_count": null,
   "id": "e1b0d1ae",
   "metadata": {},
   "outputs": [],
   "source": [
    "function deg2rad(x::T) where T <: Real\n",
    "    return x * π / 180.\n",
    "end\n",
    "\n",
    "function get_cos(x::T) where T <: Real\n",
    "    return x ≈ 90 ? 0 : cos(deg2rad(x))\n",
    "end\n",
    "\n",
    "function get_cell_vectors(cellpar::Array{Float64,1})\n",
    "    a, b, c, α, β, γ = cellpar\n",
    "    cos_α = get_cos(α)\n",
    "    cos_β = get_cos(β)\n",
    "    cos_γ = get_cos(abs(γ))\n",
    "    sin_γ = abs(γ) ≈ 90 ? sign(γ) : sin(deg2rad(γ))\n",
    "    cos_α, cos_β, cos_γ, sin_γ\n",
    "    \n",
    "    cy = (cos_α - cos_β * cos_γ) / sin_γ\n",
    "    abc = hcat([a; 0; 0], b*[cos_γ; sin_γ; 0], c*[cos_β; cy; √(1-cos_β*cos_β-cy*cy)])\n",
    "    return abc\n",
    "end"
   ]
  },
  {
   "cell_type": "code",
   "execution_count": null,
   "id": "b8802775",
   "metadata": {},
   "outputs": [],
   "source": [
    "abc = get_cell_vectors(crystal_specs[name][\"cellpar\"])"
   ]
  },
  {
   "cell_type": "code",
   "execution_count": null,
   "id": "71194fa8",
   "metadata": {},
   "outputs": [],
   "source": [
    "cell = abc * xyz"
   ]
  },
  {
   "cell_type": "markdown",
   "id": "5ee68ac1",
   "metadata": {},
   "source": [
    "#### Storing everything within a `SingleCrystal.Cell` struct"
   ]
  },
  {
   "cell_type": "code",
   "execution_count": null,
   "id": "412af2a3",
   "metadata": {},
   "outputs": [],
   "source": [
    "chemical_symbols, atomic_numbers, masses = SingleCrystal.get_chemical_info()"
   ]
  },
  {
   "cell_type": "code",
   "execution_count": null,
   "id": "d4199afc",
   "metadata": {},
   "outputs": [],
   "source": [
    "# storing crystal properties in a `SingleCrystal.Cell` instance\n",
    "el2atom_map = Dict(el => SingleCrystal.Atom(name=el, mass=masses[el]) for el in keys(masses))\n",
    "\n",
    "cc = SingleCrystal.CartesianCoords(Float64)\n",
    "box = SingleCrystal.PrimitiveVectors(cc, A₁=abc[:,1], A₂=abc[:,2], A₃=abc[:,3])\n",
    "\n",
    "_spg = SingleCrystal.Spacegroup(nr, setting, kinds, sites)\n",
    "\n",
    "crystal = SingleCrystal.Cell(\n",
    "    [el2atom_map[symbols[v]] for v in kinds],\n",
    "    [cell * v for v in  sites],\n",
    "    box,\n",
    "    [norm(abc[:,1]), norm(abc[:,2]), norm(abc[:,3])],\n",
    "    _spg\n",
    ")"
   ]
  },
  {
   "cell_type": "markdown",
   "id": "c68d961c",
   "metadata": {},
   "source": [
    "## Sanity checking generated positions and cell boxes"
   ]
  },
  {
   "cell_type": "markdown",
   "id": "fffa3246",
   "metadata": {},
   "source": [
    "Using `ase` as a reference we can directly check if our positions and cell boxes have the expected values. For this we load pre-computed values from disk."
   ]
  },
  {
   "cell_type": "code",
   "execution_count": null,
   "id": "17870fcb",
   "metadata": {},
   "outputs": [],
   "source": [
    "json_ase_crystals = SingleCrystal.load_refs()"
   ]
  },
  {
   "cell_type": "markdown",
   "id": "4c193909",
   "metadata": {},
   "source": [
    "### Checking a single crystal"
   ]
  },
  {
   "cell_type": "code",
   "execution_count": null,
   "id": "850becaf",
   "metadata": {},
   "outputs": [],
   "source": [
    "name = \"Skudderudite\""
   ]
  },
  {
   "cell_type": "code",
   "execution_count": null,
   "id": "cd56b373",
   "metadata": {},
   "outputs": [],
   "source": [
    "json_ase_crystal = json_ase_crystals[name]"
   ]
  },
  {
   "cell_type": "code",
   "execution_count": null,
   "id": "9bf6b9c4",
   "metadata": {},
   "outputs": [],
   "source": [
    "ase_crystal = SingleCrystal.parse_json_crystal(json_ase_crystal)"
   ]
  },
  {
   "cell_type": "code",
   "execution_count": null,
   "id": "62e43cdc",
   "metadata": {},
   "outputs": [],
   "source": [
    "function positions_match_ase(crystal::SingleCrystal.Cell, ase_crystal::Dict)\n",
    "    return all([p0 ≈ p1 for (p0,p1) in zip(ase_crystal[\"positions\"],crystal.positions)])\n",
    "end"
   ]
  },
  {
   "cell_type": "code",
   "execution_count": null,
   "id": "6cd3122f",
   "metadata": {},
   "outputs": [],
   "source": [
    "@assert positions_match_ase(crystal, ase_crystal)"
   ]
  },
  {
   "cell_type": "code",
   "execution_count": null,
   "id": "e465bda1",
   "metadata": {},
   "outputs": [],
   "source": [
    "function cell_matches_ase(crystal::SingleCrystal.Cell, ase_crystal::Dict)\n",
    "    return crystal.box.M ≈ ase_crystal[\"cell\"]\n",
    "end"
   ]
  },
  {
   "cell_type": "code",
   "execution_count": null,
   "id": "e889b9c9",
   "metadata": {},
   "outputs": [],
   "source": [
    "@assert cell_matches_ase(crystal, ase_crystal)"
   ]
  },
  {
   "cell_type": "markdown",
   "id": "d60625d2",
   "metadata": {},
   "source": [
    "### Looping all crystals"
   ]
  },
  {
   "cell_type": "markdown",
   "id": "6866e5a6",
   "metadata": {},
   "source": [
    "All right, looks good so far. Let's check all crystals"
   ]
  },
  {
   "cell_type": "code",
   "execution_count": null,
   "id": "e011466e",
   "metadata": {},
   "outputs": [],
   "source": [
    "crystals = Dict()\n",
    "\n",
    "for name in keys(crystal_specs)\n",
    "    @testset \"$(name)\" begin\n",
    "        nr = crystal_specs[name][\"nr\"]\n",
    "        setting = crystal_specs[name][\"setting\"]\n",
    "        basis = crystal_specs[name][\"basis\"]\n",
    "        symbols = crystal_specs[name][\"symbols\"]\n",
    "        a_direction = crystal_specs[name][\"a_direction\"]\n",
    "        ab_normal = crystal_specs[name][\"ab_normal\"]\n",
    "        cellpar = crystal_specs[name][\"cellpar\"]\n",
    "\n",
    "        crystal = SingleCrystal.make_unitcell(basis, symbols, nr, setting, cellpar,\n",
    "                               a_direction=a_direction, ab_normal=ab_normal)\n",
    "        ase_crystal = SingleCrystal.parse_json_crystal(json_ase_crystals[name])\n",
    "        \n",
    "        @testset \"positions match\" begin \n",
    "            @test positions_match_ase(crystal, ase_crystal)\n",
    "        end\n",
    "        @testset \"cell match\" begin\n",
    "            @test cell_matches_ase(crystal, ase_crystal)\n",
    "        end\n",
    "        \n",
    "        crystals[name] = crystal\n",
    "        \n",
    "    end\n",
    "end"
   ]
  },
  {
   "cell_type": "markdown",
   "id": "3fe48476",
   "metadata": {},
   "source": [
    "## Storing crystal as json readable by `ase.Atoms.fromdict`"
   ]
  },
  {
   "cell_type": "markdown",
   "id": "af8b3af1",
   "metadata": {},
   "source": [
    "Since one may want to re-use the crystals created with this julia package from python with ase, let's export them."
   ]
  },
  {
   "cell_type": "code",
   "execution_count": null,
   "id": "23c87b2e",
   "metadata": {},
   "outputs": [],
   "source": [
    "ds = Dict(name => SingleCrystal.cell2dict(crystals[name])\n",
    "          for name in keys(crystals))\n",
    "\n",
    "open(\"julia-atoms.json\",\"w\") do f\n",
    "    JSON.print(f, ds)\n",
    "end"
   ]
  },
  {
   "cell_type": "code",
   "execution_count": null,
   "id": "a73647ba",
   "metadata": {},
   "outputs": [],
   "source": []
  }
 ],
 "metadata": {
  "kernelspec": {
   "display_name": "Julia 1.5.3",
   "language": "julia",
   "name": "julia-1.5"
  },
  "language_info": {
   "file_extension": ".jl",
   "mimetype": "application/julia",
   "name": "julia",
   "version": "1.5.3"
  },
  "toc": {
   "base_numbering": 1,
   "nav_menu": {
    "height": "302.4px",
    "width": "318.4px"
   },
   "number_sections": true,
   "sideBar": true,
   "skip_h1_title": false,
   "title_cell": "Table of Contents",
   "title_sidebar": "Contents",
   "toc_cell": false,
   "toc_position": {},
   "toc_section_display": true,
   "toc_window_display": false
  }
 },
 "nbformat": 4,
 "nbformat_minor": 5
}
